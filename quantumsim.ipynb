{
 "cells": [
  {
   "cell_type": "code",
   "execution_count": 10,
   "metadata": {
    "collapsed": false
   },
   "outputs": [
    {
     "name": "stdout",
     "output_type": "stream",
     "text": [
      "[1 0] [0 1]\n",
      "[ 0.70710678  0.70710678]\n",
      "[ 0.70710678 -0.70710678]\n"
     ]
    }
   ],
   "source": [
    "#sigh=alpha(0)+beta(1)\n",
    "import numpy as np\n",
    "a=np.array([1,0])\n",
    "b=np.array([0,1])\n",
    "print(a,b)\n",
    "c=(a+b)/np.sqrt(2)\n",
    "print(c)\n",
    "d=(a-b)/np.sqrt(2)\n",
    "print(d)\n",
    "\n",
    "#alpha=float(input(\"enter the value of alpha= \"))\n",
    "#beta=float(input(\"enter the value of beta= \"))\n",
    "#print(alpha,beta)\n"
   ]
  },
  {
   "cell_type": "code",
   "execution_count": 18,
   "metadata": {
    "collapsed": false
   },
   "outputs": [
    {
     "name": "stdout",
     "output_type": "stream",
     "text": [
      "[[ 0.70710678-0.j        ]\n",
      " [ 0.00000000-0.70710678j]]\n"
     ]
    }
   ],
   "source": [
    "a=np.array([[1,1j]])\n",
    "A=a/np.sqrt(2)\n",
    "C=A.conj().T\n",
    "#print(A)\n",
    "print(C)"
   ]
  },
  {
   "cell_type": "code",
   "execution_count": 28,
   "metadata": {
    "collapsed": false
   },
   "outputs": [
    {
     "name": "stdout",
     "output_type": "stream",
     "text": [
      "[[ 1  0]\n",
      " [ 0 -1]]\n",
      "-1\n"
     ]
    }
   ],
   "source": [
    "z=np.array([[1,0],[0,-1]])\n",
    "print(z)\n",
    "print(z[1,1])\n"
   ]
  },
  {
   "cell_type": "code",
   "execution_count": 37,
   "metadata": {
    "collapsed": false
   },
   "outputs": [
    {
     "name": "stdout",
     "output_type": "stream",
     "text": [
      "[0 1]\n",
      "[[ 1  0]\n",
      " [ 0 -1]]\n",
      "[[ 0.70710678  0.70710678]\n",
      " [ 0.70710678 -0.70710678]]\n",
      "[-0.70710678  0.70710678]\n"
     ]
    }
   ],
   "source": [
    "psi=np.array([0,1])\n",
    "z=np.array([[1,0],[0,-1]])\n",
    "h=np.array([[1,1],[1,-1]])/np.sqrt(2)\n",
    "print(psi)\n",
    "print(z)\n",
    "print(h)\n",
    "o=psi @ z @ h\n",
    "print(o)\n",
    "\n",
    "\n"
   ]
  },
  {
   "cell_type": "code",
   "execution_count": 40,
   "metadata": {
    "collapsed": false
   },
   "outputs": [
    {
     "name": "stdout",
     "output_type": "stream",
     "text": [
      "enter the value of alpha= .2\n",
      "enter the value of beta= .8\n",
      "0.2|0> + 0.8|1>\n"
     ]
    }
   ],
   "source": [
    "alpha=float(input(\"enter the value of alpha= \"))\n",
    "beta=float(input(\"enter the value of beta= \"))\n",
    "print(str(alpha)+\"|0> +\" ,str(beta)+\"|1>\")"
   ]
  },
  {
   "cell_type": "code",
   "execution_count": null,
   "metadata": {
    "collapsed": true
   },
   "outputs": [],
   "source": []
  }
 ],
 "metadata": {
  "kernelspec": {
   "display_name": "Python [Root]",
   "language": "python",
   "name": "Python [Root]"
  },
  "language_info": {
   "codemirror_mode": {
    "name": "ipython",
    "version": 3
   },
   "file_extension": ".py",
   "mimetype": "text/x-python",
   "name": "python",
   "nbconvert_exporter": "python",
   "pygments_lexer": "ipython3",
   "version": "3.5.1"
  }
 },
 "nbformat": 4,
 "nbformat_minor": 0
}
