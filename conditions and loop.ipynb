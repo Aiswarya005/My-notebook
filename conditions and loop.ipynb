{
 "cells": [
  {
   "cell_type": "code",
   "execution_count": null,
   "metadata": {
    "collapsed": false
   },
   "outputs": [],
   "source": [
    "value=float(input(\"enter the value:\"))\n",
    "if value>0:\n",
    "    print('the value is positive')\n",
    "elif value<0:\n",
    "    print('the value is negative')\n",
    "elif value==0:\n",
    "    print(\"the value is neutral\")\n",
    "    \n"
   ]
  },
  {
   "cell_type": "code",
   "execution_count": null,
   "metadata": {
    "collapsed": false
   },
   "outputs": [],
   "source": [
    "value=int(input(\"enter the value:\"))\n",
    "if value%2==0:\n",
    "    print(\"the number is even\")\n",
    "else:\n",
    "    print(\"the value is odd\")"
   ]
  },
  {
   "cell_type": "code",
   "execution_count": null,
   "metadata": {
    "collapsed": false
   },
   "outputs": [],
   "source": [
    "year=int(input(\"enter the value:\"))\n",
    "if year%4==0:\n",
    "    print(\"it is a leap year\")\n",
    "else:\n",
    "    print(\"it is a common year\")"
   ]
  },
  {
   "cell_type": "code",
   "execution_count": null,
   "metadata": {
    "collapsed": false
   },
   "outputs": [],
   "source": [
    "num=int(input(\"enter the number:\"))\n",
    "if num>1:\n",
    "    for x in range(2,num):\n",
    "        if num%x==0:\n",
    "            print(\"the number is not prime\")\n",
    "            break\n",
    "    else:\n",
    "        print(\"the number is prime\")\n",
    "else:\n",
    "    print(\"the number is not a prime\")"
   ]
  },
  {
   "cell_type": "code",
   "execution_count": null,
   "metadata": {
    "collapsed": false
   },
   "outputs": [],
   "source": [
    "range1=int(input(\"enter the lower range:\"))\n",
    "range2=int(input(\"enter the upper range:\"))\n",
    "for num in range(range1,range2+1):\n",
    "    if num>1:\n",
    "        for x in range(2,num):\n",
    "            if num%x==0:\n",
    "                break\n",
    "        else:\n",
    "            print(num)\n"
   ]
  },
  {
   "cell_type": "code",
   "execution_count": null,
   "metadata": {
    "collapsed": false
   },
   "outputs": [],
   "source": [
    "n=int(input(\"enter the factorial:\"))\n",
    "factorial=1\n",
    "for x in range(1,n+1):\n",
    "    factorial=factorial*x\n",
    "print(factorial)    "
   ]
  },
  {
   "cell_type": "code",
   "execution_count": null,
   "metadata": {
    "collapsed": false
   },
   "outputs": [],
   "source": [
    "n = int(input(\"the multiplication table of:\"))\n",
    "for x in range(1,11):\n",
    "    table=n*x\n",
    "    print(n,\"*\",x,\"=\",table)\n",
    "    "
   ]
  },
  {
   "cell_type": "code",
   "execution_count": 6,
   "metadata": {
    "collapsed": false
   },
   "outputs": [
    {
     "name": "stdout",
     "output_type": "stream",
     "text": [
      "enter the number of terms:10\n",
      "the sequence is\n",
      "0 , 1,1,2,3,5,8,13,21,34,"
     ]
    }
   ],
   "source": [
    "terms=int(input(\"enter the number of terms:\"))\n",
    "n1=0\n",
    "n2=1\n",
    "count=2\n",
    "if terms <=0:\n",
    "    print(\"please ente a valid positive number\")\n",
    "elif terms ==1:\n",
    "    print(\"fibonacci series =\",n2)\n",
    "else:\n",
    "    print(\"the sequence is\")\n",
    "    print(n1,\",\",n2,end=\",\")\n",
    "    while terms>count:\n",
    "        seq=n1+n2\n",
    "        print(seq,end=\",\")\n",
    "        n1=n2\n",
    "        n2=seq\n",
    "        count +=1\n",
    "        "
   ]
  },
  {
   "cell_type": "code",
   "execution_count": null,
   "metadata": {
    "collapsed": true
   },
   "outputs": [],
   "source": [
    "number=int(input(\"enter the number:\"))\n"
   ]
  },
  {
   "cell_type": "code",
   "execution_count": null,
   "metadata": {
    "collapsed": true
   },
   "outputs": [],
   "source": []
  }
 ],
 "metadata": {
  "anaconda-cloud": {},
  "kernelspec": {
   "display_name": "Python [Root]",
   "language": "python",
   "name": "Python [Root]"
  },
  "language_info": {
   "codemirror_mode": {
    "name": "ipython",
    "version": 3
   },
   "file_extension": ".py",
   "mimetype": "text/x-python",
   "name": "python",
   "nbconvert_exporter": "python",
   "pygments_lexer": "ipython3",
   "version": "3.5.1"
  }
 },
 "nbformat": 4,
 "nbformat_minor": 0
}
